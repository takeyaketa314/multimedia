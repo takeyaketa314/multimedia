{
 "cells": [
  {
   "cell_type": "code",
   "execution_count": 57,
   "metadata": {},
   "outputs": [],
   "source": [
    "import matplotlib.pyplot as plt\n",
    "import pandas as pd\n",
    "import numpy as np\n",
    "from sklearn.model_selection import train_test_split\n",
    "import time\n",
    "import scipy.stats as st #最頻値計算のため\n",
    "import codecs as co"
   ]
  },
  {
   "cell_type": "markdown",
   "metadata": {},
   "source": [
    "サンプル生成"
   ]
  },
  {
   "cell_type": "code",
   "execution_count": 15,
   "metadata": {},
   "outputs": [],
   "source": [
    "class Sample:\n",
    "    \n",
    "    def __init__(self, seed = 1): \n",
    "        self.seed = seed\n",
    "        self.np = np\n",
    "        self.np.random.seed(seed)\n",
    "        return \n",
    "    \n",
    "    def generate2d(self, n, ave, sig, x1_shift = 0, x2_shift = 0):\n",
    "        _a = self.np.random.normal(ave, sig, 2*n)\n",
    "        return _a[:n]+x1_shift, _a[n:]+x2_shift\n",
    "        "
   ]
  },
  {
   "cell_type": "markdown",
   "metadata": {},
   "source": [
    "k-NN法"
   ]
  },
  {
   "cell_type": "code",
   "execution_count": 81,
   "metadata": {},
   "outputs": [],
   "source": [
    "class KNeighbors():\n",
    "    def __init__(self):\n",
    "        self.n_neighbors = None\n",
    "        self.x_train = None\n",
    "        self.y_train = None\n",
    "\n",
    "    def fit(self, x_train, y_train, n_neighbors):\n",
    "        self.x_train = x_train\n",
    "        self.y_train = y_train\n",
    "        self.n_neighbors = n_neighbors\n",
    "\n",
    "    def predict(self, x_test, y_test):\n",
    "        y = np.array(y_test)\n",
    "        ypre = np.zeros(y.shape)\n",
    "        ytmp = []\n",
    "        for i in range(x_test.shape[0]):\n",
    "            #与えられたテストデータと学習データ間のベクトル，ノルムを計算している(距離)\n",
    "            distances = np.array([np.linalg.norm(self.x_train[j] - x_test[i]) for j in range(self.x_train.shape[0])])\n",
    "            #argsort  昇順にデータを並べた時のそのデータのインデックスを返す　　n_neighbors の数だけ j が並ぶ\n",
    "            neighbors_index = np.argsort(distances)[:self.n_neighbors]\n",
    "            #print(neighbors_index)\n",
    "            for k in range(neighbors_index.shape[0]):\n",
    "                #各インデックスに属するデータのクラスを格納\n",
    "                ytmp.append(self.y_train[neighbors_index[k]][0])\n",
    "            #最頻値を予測クラスとする\n",
    "            ypre[i] = st.mode(ytmp)[0][0]\n",
    "            ytmp.clear()\n",
    "            \n",
    "        print(\"class1:{}/{}({}%)\".format(np.count_nonzero((y==ypre) & (y==1)), np.count_nonzero(y==1), 100 * np.count_nonzero((y==ypre) & (y==1))/np.count_nonzero(y==1)))\n",
    "        \n",
    "        print(\"class2:{}/{}({}%)\".format(np.count_nonzero((y==ypre) & (y==2)), np.count_nonzero(y==2), 100 * np.count_nonzero((y==ypre) & (y==2))/np.count_nonzero(y==2)))\n",
    "        \n",
    "        print(\"class3:{}/{}({}%)\".format(np.count_nonzero((y==ypre) & (y==3)), np.count_nonzero(y==3), 100 * np.count_nonzero((y==ypre) & (y==3))/np.count_nonzero(y==3)))\n",
    "        \n",
    "        print(\"class3:{}/{}({}%)\".format(np.count_nonzero((y==ypre) & (y==4)), np.count_nonzero(y==4), 100 * np.count_nonzero((y==ypre) & (y==4))/np.count_nonzero(y==4)))\n"
   ]
  },
  {
   "cell_type": "markdown",
   "metadata": {},
   "source": [
    "データ作成"
   ]
  },
  {
   "cell_type": "code",
   "execution_count": 79,
   "metadata": {},
   "outputs": [
    {
     "data": {
      "image/png": "[encoded data removed]",
      "text/plain": [
       "<Figure size 432x288 with 1 Axes>"
      ]
     },
     "metadata": {
      "needs_background": "light"
     },
     "output_type": "display_data"
    }
   ],
   "source": [
    "# data生成\n",
    "data_num = 3 # 使うデータ数\n",
    "s_x1 = np.zeros((1000,10))\n",
    "s_x2 = np.zeros((1000,10))\n",
    "s_x1[:,0], s_x2[:,0] = Sample(1).generate2d(1000, 100, 10)\n",
    "s_x1[:,1], s_x2[:,1] = Sample(2).generate2d(1000, 120, 10)\n",
    "s_x1[:,2], s_x2[:,2] = Sample(3).generate2d(1000, 140, 10)\n",
    "s_x1[:,3], s_x2[:,3] = Sample(4).generate2d(1000, 100, 10, x1_shift = 40)\n",
    "s_x1[:,4], s_x2[:,4] = Sample(5).generate2d(1000, 100, 10, x2_shift = 40)\n",
    "s_x1[:,5], s_x2[:,5] = Sample(6).generate2d(1000, 180, 10)\n",
    "s_x1[:,6], s_x2[:,6] = Sample(7).generate2d(1000, 140, 10, x1_shift = 40)\n",
    "s_x1[:,7], s_x2[:,7] = Sample(8).generate2d(1000, 140, 10, x2_shift = 40)\n",
    "s_x1[:,8], s_x2[:,8] = Sample(9).generate2d(1000, 100, 10, x1_shift = 80)\n",
    "s_x1[:,9], s_x2[:,9] = Sample(10).generate2d(1000, 100, 10, x2_shift = 80)\n",
    "\n",
    "for i in range(data_num):\n",
    "    plt.scatter(s_x1[:,i], s_x2[:,i])\n",
    "\n",
    "plt.show()\n",
    "plt.close()\n",
    "\n",
    "for i in range(data_num):\n",
    "    exec(\"df{} = pd.DataFrame({{\\'y\\': {}, \\'x1\\': s_x1[:,i], \\'x2\\': s_x2[:,i]}})\".format(i+1, i+1))\n",
    "\n",
    "# shuffle\n",
    "df = df1\n",
    "for i in range(data_num-1):\n",
    "    exec(\"df = pd.concat([df, df{}]).sample(frac=1).reset_index(drop=True)\".format(i+2))\n",
    "#display(df.head())\n",
    "\n",
    "# すでにshuffleされているためshuffleはfalse\n",
    "# これらの値はDataFrame\n",
    "x_train, x_test, y_train, y_test = train_test_split(df[['x1', 'x2']].values, df[['y']].values, test_size=0.2, shuffle = False)"
   ]
  },
  {
   "cell_type": "markdown",
   "metadata": {},
   "source": [
    "分類"
   ]
  },
  {
   "cell_type": "code",
   "execution_count": 83,
   "metadata": {},
   "outputs": [
    {
     "name": "stdout",
     "output_type": "stream",
     "text": [
      "1\n",
      "class1:161/181(88.95027624309392%)\n",
      "class2:157/206(76.2135922330097%)\n",
      "class3:188/213(88.26291079812206%)\n",
      "test time:8.665215969085693s\n",
      "\n",
      "\n",
      "3\n",
      "class1:166/181(91.71270718232044%)\n",
      "class2:166/206(80.58252427184466%)\n",
      "class3:196/213(92.01877934272301%)\n",
      "test time:8.697648048400879s\n",
      "\n",
      "\n",
      "5\n",
      "class1:168/181(92.81767955801105%)\n",
      "class2:166/206(80.58252427184466%)\n",
      "class3:195/213(91.54929577464789%)\n",
      "test time:8.894269227981567s\n",
      "\n",
      "\n",
      "7\n",
      "class1:168/181(92.81767955801105%)\n",
      "class2:169/206(82.03883495145631%)\n",
      "class3:196/213(92.01877934272301%)\n",
      "test time:8.684333086013794s\n",
      "\n",
      "\n",
      "9\n",
      "class1:166/181(91.71270718232044%)\n",
      "class2:170/206(82.52427184466019%)\n",
      "class3:196/213(92.01877934272301%)\n",
      "test time:10.138676166534424s\n",
      "\n",
      "\n",
      "11\n",
      "class1:167/181(92.26519337016575%)\n",
      "class2:173/206(83.98058252427184%)\n",
      "class3:196/213(92.01877934272301%)\n",
      "test time:9.771976947784424s\n",
      "\n",
      "\n",
      "13\n",
      "class1:165/181(91.16022099447514%)\n",
      "class2:172/206(83.49514563106796%)\n",
      "class3:197/213(92.48826291079813%)\n",
      "test time:8.62250304222107s\n",
      "\n",
      "\n",
      "15\n",
      "class1:164/181(90.60773480662984%)\n",
      "class2:172/206(83.49514563106796%)\n",
      "class3:196/213(92.01877934272301%)\n",
      "test time:8.696179866790771s\n",
      "\n",
      "\n",
      "17\n",
      "class1:166/181(91.71270718232044%)\n",
      "class2:171/206(83.00970873786407%)\n",
      "class3:197/213(92.48826291079813%)\n",
      "test time:8.594125747680664s\n",
      "\n",
      "\n",
      "19\n",
      "class1:166/181(91.71270718232044%)\n",
      "class2:169/206(82.03883495145631%)\n",
      "class3:196/213(92.01877934272301%)\n",
      "test time:8.711657285690308s\n",
      "\n",
      "\n",
      "21\n",
      "class1:167/181(92.26519337016575%)\n",
      "class2:170/206(82.52427184466019%)\n",
      "class3:196/213(92.01877934272301%)\n",
      "test time:8.588089227676392s\n",
      "\n",
      "\n",
      "23\n",
      "class1:168/181(92.81767955801105%)\n",
      "class2:172/206(83.49514563106796%)\n",
      "class3:196/213(92.01877934272301%)\n",
      "test time:8.941062211990356s\n",
      "\n",
      "\n",
      "25\n",
      "class1:168/181(92.81767955801105%)\n",
      "class2:172/206(83.49514563106796%)\n",
      "class3:195/213(91.54929577464789%)\n",
      "test time:8.603608131408691s\n",
      "\n",
      "\n",
      "27\n",
      "class1:168/181(92.81767955801105%)\n",
      "class2:172/206(83.49514563106796%)\n",
      "class3:195/213(91.54929577464789%)\n",
      "test time:8.725173950195312s\n",
      "\n",
      "\n",
      "29\n",
      "class1:168/181(92.81767955801105%)\n",
      "class2:171/206(83.00970873786407%)\n",
      "class3:196/213(92.01877934272301%)\n",
      "test time:8.757223129272461s\n",
      "\n",
      "\n",
      "31\n",
      "class1:167/181(92.26519337016575%)\n",
      "class2:172/206(83.49514563106796%)\n",
      "class3:196/213(92.01877934272301%)\n",
      "test time:8.985417127609253s\n",
      "\n",
      "\n"
     ]
    }
   ],
   "source": [
    "for i in range(33):\n",
    "    if i%2 == 1:\n",
    "        n_neighbors = i\n",
    "        print(n_neighbors)\n",
    "        # --- my KNeighbors\n",
    "        clf_m = KNeighbors()\n",
    "        clf_m.fit(x_train, y_train, n_neighbors)\n",
    "        start = time.time()\n",
    "        clf_m.predict(x_test, y_test)\n",
    "        print('test time:{}s'.format(time.time()-start))\n",
    "        print('\\n')"
   ]
  },
  {
   "cell_type": "code",
   "execution_count": null,
   "metadata": {},
   "outputs": [],
   "source": []
  }
 ],
 "metadata": {
  "kernelspec": {
   "display_name": "Python 3",
   "language": "python",
   "name": "python3"
  },
  "language_info": {
   "codemirror_mode": {
    "name": "ipython",
    "version": 3
   },
   "file_extension": ".py",
   "mimetype": "text/x-python",
   "name": "python",
   "nbconvert_exporter": "python",
   "pygments_lexer": "ipython3",
   "version": "3.7.3"
  }
 },
 "nbformat": 4,
 "nbformat_minor": 2
}
